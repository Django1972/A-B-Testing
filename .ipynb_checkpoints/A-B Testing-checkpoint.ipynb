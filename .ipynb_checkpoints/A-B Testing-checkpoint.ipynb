{
 "cells": [
  {
   "cell_type": "markdown",
   "metadata": {},
   "source": [
    "###### Сразу импортируем необходимые библиотеки"
   ]
  },
  {
   "cell_type": "code",
   "execution_count": 1,
   "metadata": {},
   "outputs": [],
   "source": [
    "import pandas as pd\n",
    "import seaborn as sns\n",
    "import scipy\n",
    "import numpy as np\n",
    "import matplotlib.pyplot as plt\n",
    "from scipy.stats import iqr\n",
    "import math\n",
    "from statsmodels.stats.proportion import proportions_ztest\n",
    "from scipy import stats\n",
    "from scipy.stats import shapiro\n",
    "import scipy.stats as stats\n",
    "import matplotlib.pyplot as plt\n",
    "from scipy.stats import levene\n",
    "from scipy.stats import bartlett\n",
    "from scipy.stats import mannwhitneyu\n",
    "from statsmodels.stats.proportion import proportions_ztest\n",
    "import seaborn as sns\n",
    "import matplotlib.pyplot as plt\n",
    "from matplotlib.ticker import MaxNLocator\n",
    "from statsmodels.distributions.empirical_distribution import ECDF"
   ]
  },
  {
   "cell_type": "markdown",
   "metadata": {},
   "source": [
    "###### Читаем данные по контрольной и тестовой группам"
   ]
  },
  {
   "cell_type": "code",
   "execution_count": 26,
   "metadata": {},
   "outputs": [],
   "source": [
    "AB_results = pd.read_csv('/mnt/HC_Volume_18315164/home-jupyter/jupyter-e-kucherenko/Final_Project_Variant_1/Проект_1_Задание_2.csv',  sep = ';', encoding='ISO-8859-1')"
   ]
  },
  {
   "cell_type": "markdown",
   "metadata": {},
   "source": [
    "###### Выведем первые 5 строк"
   ]
  },
  {
   "cell_type": "code",
   "execution_count": 27,
   "metadata": {},
   "outputs": [
    {
     "data": {
      "text/html": [
       "<div>\n",
       "<style scoped>\n",
       "    .dataframe tbody tr th:only-of-type {\n",
       "        vertical-align: middle;\n",
       "    }\n",
       "\n",
       "    .dataframe tbody tr th {\n",
       "        vertical-align: top;\n",
       "    }\n",
       "\n",
       "    .dataframe thead th {\n",
       "        text-align: right;\n",
       "    }\n",
       "</style>\n",
       "<table border=\"1\" class=\"dataframe\">\n",
       "  <thead>\n",
       "    <tr style=\"text-align: right;\">\n",
       "      <th></th>\n",
       "      <th>user_id</th>\n",
       "      <th>revenue</th>\n",
       "      <th>testgroup</th>\n",
       "    </tr>\n",
       "  </thead>\n",
       "  <tbody>\n",
       "    <tr>\n",
       "      <th>0</th>\n",
       "      <td>1</td>\n",
       "      <td>0</td>\n",
       "      <td>b</td>\n",
       "    </tr>\n",
       "    <tr>\n",
       "      <th>1</th>\n",
       "      <td>2</td>\n",
       "      <td>0</td>\n",
       "      <td>a</td>\n",
       "    </tr>\n",
       "    <tr>\n",
       "      <th>2</th>\n",
       "      <td>3</td>\n",
       "      <td>0</td>\n",
       "      <td>a</td>\n",
       "    </tr>\n",
       "    <tr>\n",
       "      <th>3</th>\n",
       "      <td>4</td>\n",
       "      <td>0</td>\n",
       "      <td>b</td>\n",
       "    </tr>\n",
       "    <tr>\n",
       "      <th>4</th>\n",
       "      <td>5</td>\n",
       "      <td>0</td>\n",
       "      <td>b</td>\n",
       "    </tr>\n",
       "  </tbody>\n",
       "</table>\n",
       "</div>"
      ],
      "text/plain": [
       "   user_id  revenue testgroup\n",
       "0        1        0         b\n",
       "1        2        0         a\n",
       "2        3        0         a\n",
       "3        4        0         b\n",
       "4        5        0         b"
      ]
     },
     "execution_count": 27,
     "metadata": {},
     "output_type": "execute_result"
    }
   ],
   "source": [
    "AB_results.head()"
   ]
  },
  {
   "cell_type": "markdown",
   "metadata": {},
   "source": [
    "###### Посмотрим тип данных"
   ]
  },
  {
   "cell_type": "code",
   "execution_count": 28,
   "metadata": {},
   "outputs": [
    {
     "data": {
      "text/plain": [
       "user_id       int64\n",
       "revenue       int64\n",
       "testgroup    object\n",
       "dtype: object"
      ]
     },
     "execution_count": 28,
     "metadata": {},
     "output_type": "execute_result"
    }
   ],
   "source": [
    "AB_results.dtypes"
   ]
  },
  {
   "cell_type": "markdown",
   "metadata": {},
   "source": [
    "###### Проверка на пропущенные значения"
   ]
  },
  {
   "cell_type": "code",
   "execution_count": 29,
   "metadata": {},
   "outputs": [
    {
     "name": "stdout",
     "output_type": "stream",
     "text": [
      "user_id      0\n",
      "revenue      0\n",
      "testgroup    0\n",
      "dtype: int64\n"
     ]
    }
   ],
   "source": [
    "print(AB_results.isnull().sum())"
   ]
  },
  {
   "cell_type": "markdown",
   "metadata": {},
   "source": [
    "###### Проверка на дубликаты строк"
   ]
  },
  {
   "cell_type": "code",
   "execution_count": 30,
   "metadata": {},
   "outputs": [
    {
     "name": "stdout",
     "output_type": "stream",
     "text": [
      "Количество дубликатов строк: 0\n"
     ]
    }
   ],
   "source": [
    "duplicates = AB_results.duplicated().sum()\n",
    "print(f\"Количество дубликатов строк: {duplicates}\")"
   ]
  },
  {
   "cell_type": "markdown",
   "metadata": {},
   "source": [
    "###### Проверка на уникальность user_id"
   ]
  },
  {
   "cell_type": "code",
   "execution_count": 31,
   "metadata": {},
   "outputs": [
    {
     "name": "stdout",
     "output_type": "stream",
     "text": [
      "Уникальных пользователей: 404770\n",
      "Всего записей: 404770\n",
      "Все user_id уникальны.\n"
     ]
    }
   ],
   "source": [
    "unique_users = AB_results['user_id'].nunique()\n",
    "total_users = AB_results.shape[0]\n",
    "print(f\"Уникальных пользователей: {unique_users}\")\n",
    "print(f\"Всего записей: {total_users}\")\n",
    "if unique_users != total_users:\n",
    "    print(\"В данных есть повторяющиеся user_id.\")\n",
    "else:\n",
    "    print(\"Все user_id уникальны.\")"
   ]
  },
  {
   "cell_type": "markdown",
   "metadata": {},
   "source": [
    "###### Посмотрим статистику"
   ]
  },
  {
   "cell_type": "code",
   "execution_count": 32,
   "metadata": {},
   "outputs": [
    {
     "name": "stdout",
     "output_type": "stream",
     "text": [
      "count    404770.000000\n",
      "mean         26.083435\n",
      "std         681.652928\n",
      "min           0.000000\n",
      "25%           0.000000\n",
      "50%           0.000000\n",
      "75%           0.000000\n",
      "max       37433.000000\n",
      "Name: revenue, dtype: float64\n"
     ]
    }
   ],
   "source": [
    "# Посмотрим статистику\n",
    "print(AB_results['revenue'].describe())"
   ]
  },
  {
   "cell_type": "markdown",
   "metadata": {},
   "source": [
    "Лучше посмотреть группы отдельно и сразу сравнивать"
   ]
  },
  {
   "cell_type": "code",
   "execution_count": 33,
   "metadata": {},
   "outputs": [
    {
     "name": "stdout",
     "output_type": "stream",
     "text": [
      "Описание выборки для группы A:\n",
      "count    202103.000000\n",
      "mean         25.413720\n",
      "std         920.768137\n",
      "min           0.000000\n",
      "25%           0.000000\n",
      "50%           0.000000\n",
      "75%           0.000000\n",
      "max       37433.000000\n",
      "\n",
      "Описание выборки для группы B:\n",
      "count    202667.000000\n",
      "mean         26.751287\n",
      "std         287.324162\n",
      "min           0.000000\n",
      "25%           0.000000\n",
      "50%           0.000000\n",
      "75%           0.000000\n",
      "max        4000.000000\n"
     ]
    }
   ],
   "source": [
    "print(\"Описание выборки для группы A:\")\n",
    "print(AB_results.query(\"testgroup=='a'\")['revenue'].describe().to_string())\n",
    "\n",
    "print(\"\\nОписание выборки для группы B:\")\n",
    "print(AB_results.query(\"testgroup=='b'\")['revenue'].describe().to_string())"
   ]
  },
  {
   "cell_type": "markdown",
   "metadata": {},
   "source": [
    "Сразу можно отметить различие в максимальных значениях между группами. При этом средние значения не сильно отличаются, видимо как раз скомпенсированы за счет сильных выбросов в контрольной группе."
   ]
  },
  {
   "cell_type": "markdown",
   "metadata": {},
   "source": [
    "###### Посмотрим на данные более наглядно и постараемся подсветить различия в группах"
   ]
  },
  {
   "cell_type": "code",
   "execution_count": 34,
   "metadata": {},
   "outputs": [
    {
     "data": {
      "image/png": "[encoded data removed]",
      "text/plain": [
       "<Figure size 720x432 with 1 Axes>"
      ]
     },
     "metadata": {
      "needs_background": "light"
     },
     "output_type": "display_data"
    },
    {
     "data": {
      "image/png": "[encoded data removed]",
      "text/plain": [
       "<Figure size 720x432 with 1 Axes>"
      ]
     },
     "metadata": {
      "needs_background": "light"
     },
     "output_type": "display_data"
    }
   ],
   "source": [
    "plt.figure(figsize=(10, 6))\n",
    "sns.histplot(AB_results[AB_results['revenue'] > 0], x='revenue', hue='testgroup', bins=50)\n",
    "plt.show()\n",
    "plt.figure(figsize=(10, 6))\n",
    "sns.boxplot(data=AB_results[AB_results['revenue'] > 0], x='testgroup', y='revenue')\n",
    "plt.show()"
   ]
  },
  {
   "cell_type": "markdown",
   "metadata": {},
   "source": [
    "На этих визуализациях видно, как распределены данные и наличие очень сильных выбросов в контрольной группе,\n",
    "которые нужно будет учесть при проведении тестов. \n",
    "Смущают значения 35000+. Попробуем ради интереса посмотреть сколько их."
   ]
  },
  {
   "cell_type": "markdown",
   "metadata": {},
   "source": [
    "###### Считаем количество значений и сумму выручки для диапазонов"
   ]
  },
  {
   "cell_type": "code",
   "execution_count": 35,
   "metadata": {},
   "outputs": [
    {
     "name": "stdout",
     "output_type": "stream",
     "text": [
      "Статистика для выручки ниже 35000:\n",
      "Количество записей: 201980\n",
      "Сумма выручки: 545937\n",
      "\n",
      "Статистика для выручки выше 35000:\n",
      "Количество записей: 123\n",
      "Сумма выручки: 4590252\n"
     ]
    }
   ],
   "source": [
    "# Считаем количество значений и сумму выручки для диапазонов\n",
    "count_below_35000 = AB_results.query(\"testgroup == 'a' and revenue < 35000\").count()\n",
    "sum_below_35000 = AB_results.query(\"testgroup == 'a' and revenue < 35000\")['revenue'].sum()\n",
    "\n",
    "count_above_35000 = AB_results.query(\"testgroup == 'a' and revenue > 35000\").count()\n",
    "sum_above_35000 = AB_results.query(\"testgroup == 'a' and revenue > 35000\")['revenue'].sum()\n",
    "\n",
    "print(\"Статистика для выручки ниже 35000:\")\n",
    "print(f\"Количество записей: {count_below_35000['user_id']}\")\n",
    "print(f\"Сумма выручки: {sum_below_35000}\\n\")\n",
    "\n",
    "print(\"Статистика для выручки выше 35000:\")\n",
    "print(f\"Количество записей: {count_above_35000['user_id']}\")\n",
    "print(f\"Сумма выручки: {sum_above_35000}\")"
   ]
  },
  {
   "cell_type": "markdown",
   "metadata": {},
   "source": [
    "Получается, что 123 пользоателя с выручкой 35000+ составляют почти столько же суммарной выручки, как и пользователи с выручкой до 35000."
   ]
  },
  {
   "cell_type": "markdown",
   "metadata": {},
   "source": [
    "##### Построим более наглядный куммулятивный график выручки по группам"
   ]
  },
  {
   "cell_type": "code",
   "execution_count": 148,
   "metadata": {},
   "outputs": [
    {
     "data": {
      "image/png": "[encoded data removed]",
      "text/plain": [
       "<Figure size 720x432 with 1 Axes>"
      ]
     },
     "metadata": {
      "needs_background": "light"
     },
     "output_type": "display_data"
    }
   ],
   "source": [
    "# Оставляем только пользователей с ненулевой выручкой\n",
    "AB_results_a = AB_results.query(\"testgroup == 'a' and revenue > 0\").sort_values(by='revenue', ascending=False)\n",
    "AB_results_b = AB_results.query(\"testgroup == 'b' and revenue > 0\").sort_values(by='revenue', ascending=False)\n",
    "\n",
    "# Считаем кумулятивный процент пользователей и кумулятивную выручку для группы A\n",
    "AB_results_a['cumulative_users'] = np.arange(1, len(AB_results_a) + 1) / len(AB_results_a)\n",
    "AB_results_a['cumulative_revenue'] = AB_results_a['revenue'].cumsum() / AB_results_a['revenue'].sum()\n",
    "\n",
    "# Считаем кумулятивный процент пользователей и кумулятивную выручку для группы B\n",
    "AB_results_b['cumulative_users'] = np.arange(1, len(AB_results_b) + 1) / len(AB_results_b)\n",
    "AB_results_b['cumulative_revenue'] = AB_results_b['revenue'].cumsum() / AB_results_b['revenue'].sum()\n",
    "\n",
    "# Построим график\n",
    "plt.figure(figsize=(10, 6))\n",
    "\n",
    "# Группа A\n",
    "plt.plot(AB_results_a['cumulative_users'], AB_results_a['cumulative_revenue'], label='Группа A', color='blue')\n",
    "\n",
    "# Группа B\n",
    "plt.plot(AB_results_b['cumulative_users'], AB_results_b['cumulative_revenue'], label='Группа B', color='orange')\n",
    "\n",
    "# Добавляем линию равномерного распределения (диагональ)\n",
    "plt.plot([0, 1], [0, 1], label='Линия равномерного распределения', linestyle='--', color='red')\n",
    "\n",
    "# Настройка графика\n",
    "plt.title('Кумулятивное распределение выручки по пользователям для групп A и B')\n",
    "plt.xlabel('Кумулятивный процент пользователей')\n",
    "plt.ylabel('Кумулятивный процент выручки')\n",
    "plt.legend()\n",
    "plt.grid(True)\n",
    "plt.show()"
   ]
  },
  {
   "cell_type": "markdown",
   "metadata": {},
   "source": [
    "В группе B распределение куммулятивной выручки близко к линии равномерного распределения.\n",
    "В группе A примерно 85% выручки приходится на 8% пользователей."
   ]
  },
  {
   "cell_type": "markdown",
   "metadata": {},
   "source": [
    "##### Для сравнения групп будем считать 3 метрики:\n",
    "##### Конверсия\n",
    "##### ARPU\n",
    "##### ARPPU"
   ]
  },
  {
   "cell_type": "markdown",
   "metadata": {},
   "source": [
    "###### Конверсии по контрольной и тестовой группам"
   ]
  },
  {
   "cell_type": "code",
   "execution_count": 149,
   "metadata": {},
   "outputs": [
    {
     "name": "stdout",
     "output_type": "stream",
     "text": [
      "Conversion A: 0.95%\n",
      "Conversion B: 0.89%\n"
     ]
    }
   ],
   "source": [
    "CR_A = ((AB_results.query(\"testgroup =='a' & revenue > 0\")['user_id'].count() / AB_results.query(\"testgroup =='a'\")['user_id'].count())*100).round(2)\n",
    "CR_B = ((AB_results.query(\"testgroup =='b' & revenue > 0\")['user_id'].count() / AB_results.query(\"testgroup =='b'\")['user_id'].count())*100).round(2)\n",
    "print(f\"Conversion A: {CR_A}%\")\n",
    "print(f\"Conversion B: {CR_B}%\")"
   ]
  },
  {
   "cell_type": "markdown",
   "metadata": {},
   "source": [
    "##### ARPU"
   ]
  },
  {
   "cell_type": "code",
   "execution_count": 156,
   "metadata": {},
   "outputs": [
    {
     "name": "stdout",
     "output_type": "stream",
     "text": [
      "ARPU A: 25.413719736965806, ARPU B: 26.75128659327863, ARPU difference: 5.26%\n"
     ]
    }
   ],
   "source": [
    "ARPU_A = AB_results.query(\"testgroup == 'a'\")['revenue'].mean()\n",
    "ARPU_B = AB_results.query(\"testgroup == 'b'\")['revenue'].mean()\n",
    "ARPU_diff = ((ARPU_B / ARPU_A - 1) * 100).round(2)\n",
    "print(f\"ARPU A: {ARPU_A}, ARPU B: {ARPU_B}, ARPU difference: {ARPU_diff}%\")"
   ]
  },
  {
   "cell_type": "markdown",
   "metadata": {},
   "source": [
    "##### ARPPU"
   ]
  },
  {
   "cell_type": "code",
   "execution_count": 157,
   "metadata": {},
   "outputs": [
    {
     "name": "stdout",
     "output_type": "stream",
     "text": [
      "ARPPU A: 2663.9984439834025, ARPPU B: 3003.6581717451522, ARPPU difference: 12.75%\n"
     ]
    }
   ],
   "source": [
    "paying_users_A = AB_results.query(\"testgroup == 'a' & revenue > 0\")['user_id'].count()\n",
    "paying_users_B = AB_results.query(\"testgroup == 'b' & revenue > 0\")['user_id'].count()\n",
    "ARPPU_A = Revenue_A / paying_users_A\n",
    "ARPPU_B = Revenue_B / paying_users_B\n",
    "ARPPU_diff = ((ARPPU_B / ARPPU_A - 1) * 100).round(2)\n",
    "print(f\"ARPPU A: {ARPPU_A}, ARPPU B: {ARPPU_B}, ARPPU difference: {ARPPU_diff}%\")"
   ]
  },
  {
   "cell_type": "markdown",
   "metadata": {},
   "source": [
    "После предварительного анализа основных метрик можем сформулировать гипотезы"
   ]
  },
  {
   "cell_type": "markdown",
   "metadata": {},
   "source": [
    "### Конверсия"
   ]
  },
  {
   "cell_type": "markdown",
   "metadata": {},
   "source": [
    "###### Нулевая гипотеза (H₀): Конверсии между двумя группами A и B не различаются\n",
    "###### Альтернативная гипотеза (H₁): Конверсии между группами A и B различаются"
   ]
  },
  {
   "cell_type": "code",
   "execution_count": 158,
   "metadata": {},
   "outputs": [
    {
     "name": "stdout",
     "output_type": "stream",
     "text": [
      "Хи-квадрат значение: 4.374729521260405\n",
      "p-значение: 0.03647561892312613\n",
      "Отклоняем нулевую гипотезу. Конверсии между группами A и B различаются.\n"
     ]
    }
   ],
   "source": [
    "# Строим матрицу частот (контингентную таблицу)\n",
    "conversion_A = AB_results.query(\"testgroup == 'a' & revenue > 0\").shape[0]\n",
    "non_conversion_A = AB_results.query(\"testgroup == 'a' & revenue == 0\").shape[0]\n",
    "conversion_B = AB_results.query(\"testgroup == 'b' & revenue > 0\").shape[0]\n",
    "non_conversion_B = AB_results.query(\"testgroup == 'b' & revenue == 0\").shape[0]\n",
    "\n",
    "# Контингентная таблица\n",
    "contingency_table = [[conversion_A, non_conversion_A], [conversion_B, non_conversion_B]]\n",
    "\n",
    "# Хи-квадрат тест\n",
    "chi2, p, dof, expected = chi2_contingency(contingency_table)\n",
    "\n",
    "# Вывод результатов\n",
    "print(f\"Хи-квадрат значение: {chi2}\")\n",
    "print(f\"p-значение: {p}\")\n",
    "\n",
    "# Уровень значимости\n",
    "alpha = 0.05\n",
    "\n",
    "# Интерпретация результатов\n",
    "if p < alpha:\n",
    "    print(\"Отклоняем нулевую гипотезу. Конверсии между группами A и B различаются.\")\n",
    "else:\n",
    "    print(\"Не удалось отклонить нулевую гипотезу. Конверсии между группами A и B не различаются.\")\n"
   ]
  },
  {
   "cell_type": "markdown",
   "metadata": {},
   "source": [
    "### ARPU И ARPPU"
   ]
  },
  {
   "cell_type": "markdown",
   "metadata": {},
   "source": [
    "##### Нулевая гипотеза (H₀): ARPU не различаются между группами A и B.\n",
    "##### Альтернативная гипотеза (H₁): ARPU различаются между группами A и B.\n",
    "##### Нулевая гипотеза (H₀): ARPPU не различаются между группами A и B.\n",
    "##### Альтернативная гипотеза (H₁): ARPPU различаются между группами A и B."
   ]
  },
  {
   "cell_type": "code",
   "execution_count": 159,
   "metadata": {},
   "outputs": [
    {
     "name": "stdout",
     "output_type": "stream",
     "text": [
      "95% доверительный интервал для ARPU A: [21.26975663 29.24835121]\n",
      "95% доверительный интервал для ARPU B: [25.5997639  28.05492039]\n",
      "95% доверительный интервал для ARPPU A: [2261.51528786 3066.06508039]\n",
      "95% доверительный интервал для ARPPU B: [2979.11954294 3029.30815789]\n",
      "Не удалось отклонить нулевую гипотезу. ARPU в группах A и B не различаются.\n",
      "Не удалось отклонить нулевую гипотезу. ARPPU в группах A и B не различаются.\n"
     ]
    }
   ],
   "source": [
    "# Функция для бутстрап-оценки доверительного интервала\n",
    "def bootstrap(data, n_bootstrap=1000):\n",
    "    means = []\n",
    "    for _ in range(n_bootstrap):\n",
    "        sample = np.random.choice(data, size=len(data), replace=True)\n",
    "        means.append(np.mean(sample))\n",
    "    return np.percentile(means, [2.5, 97.5])  # 95% доверительный интервал\n",
    "\n",
    "# ARPU (средний доход на пользователя) для обеих групп\n",
    "ARPU_A = AB_results.query(\"testgroup == 'a'\")['revenue']\n",
    "ARPU_B = AB_results.query(\"testgroup == 'b'\")['revenue']\n",
    "\n",
    "# ARPPU (средний доход на платящего пользователя) для обеих групп\n",
    "ARPPU_A = AB_results.query(\"testgroup == 'a' & revenue > 0\")['revenue']\n",
    "ARPPU_B = AB_results.query(\"testgroup == 'b' & revenue > 0\")['revenue']\n",
    "\n",
    "# Оценка доверительных интервалов с помощью бутстрапа\n",
    "ARPU_A_CI = bootstrap(ARPU_A)\n",
    "ARPU_B_CI = bootstrap(ARPU_B)\n",
    "ARPPU_A_CI = bootstrap(ARPPU_A)\n",
    "ARPPU_B_CI = bootstrap(ARPPU_B)\n",
    "\n",
    "# Вывод доверительных интервалов для ARPU\n",
    "print(\"95% доверительный интервал для ARPU A:\", ARPU_A_CI)\n",
    "print(\"95% доверительный интервал для ARPU B:\", ARPU_B_CI)\n",
    "\n",
    "# Вывод доверительных интервалов для ARPPU\n",
    "print(\"95% доверительный интервал для ARPPU A:\", ARPPU_A_CI)\n",
    "print(\"95% доверительный интервал для ARPPU B:\", ARPPU_B_CI)\n",
    "\n",
    "# Проверка пересечения доверительных интервалов для ARPU\n",
    "if (ARPU_A_CI[1] < ARPU_B_CI[0]) or (ARPU_B_CI[1] < ARPU_A_CI[0]):\n",
    "    print(\"Отклоняем нулевую гипотезу. ARPU в группах A и B статистически различаются.\")\n",
    "else:\n",
    "    print(\"Не удалось отклонить нулевую гипотезу. ARPU в группах A и B не различаются.\")\n",
    "\n",
    "# Проверка пересечения доверительных интервалов для ARPPU\n",
    "if (ARPPU_A_CI[1] < ARPPU_B_CI[0]) or (ARPPU_B_CI[1] < ARPPU_A_CI[0]):\n",
    "    print(\"Отклоняем нулевую гипотезу. ARPPU в группах A и B статистически различаются.\")\n",
    "else:\n",
    "    print(\"Не удалось отклонить нулевую гипотезу. ARPPU в группах A и B не различаются.\")"
   ]
  },
  {
   "cell_type": "markdown",
   "metadata": {},
   "source": [
    "## Вывод"
   ]
  },
  {
   "cell_type": "markdown",
   "metadata": {},
   "source": [
    "### Конверсия:\n",
    "\n",
    "В тестовой группе B наблюдается статистически значимое снижение конверсии по сравнению с контрольной группой A.\n",
    "Это может указывать на негативное влияние изменений, внесенных в тестовую группу, на решение пользователей совершать покупки.\n",
    "\n",
    "### ARPU и ARPPU:\n",
    "\n",
    "Несмотря на то, что средние значения ARPU и ARPPU в тестовой группе B немного выше, разница не является статистически значимой.\n",
    "Это означает, что изменения не привели к существенному увеличению среднего дохода на пользователя или на платящего пользователя.\n",
    "\n",
    "### Выбросы:\n",
    "\n",
    "В контрольной группе A небольшое количество пользователей с очень высокой выручкой (выше 35,000) существенно влияют на общие показатели.\n",
    "Эти выбросы искажают средние значения и могут создавать ложное впечатление о эффективности контрольной группы.\n",
    "В тестовой группе B таких выбросов нет, что делает распределение выручки более равномерным.\n",
    "\n",
    "### Рекомендации:\n",
    "\n",
    "Проверка процедуры сплитования\n",
    "\n",
    "Существуют подозрения, что распределение пользователей между контрольной и тестовой группами могло быть проведено некорректно.\n",
    "Значительные выбросы в контрольной группе и их отсутствие в тестовой могут указывать на нарушение рандомизации.\n",
    "Рекомендуется проверить, каким образом осуществлялось распределение пользователей по группам, чтобы убедиться в случайности и равномерности сплитования.\n",
    "\n",
    "### Общий вывод\n",
    "\n",
    "Поскольку изменения не привели к статистически значимому улучшению ключевых метрик, а конверсия снизилась, рекомендуется не внедрять их на всю аудиторию без дополнительной доработки."
   ]
  }
 ],
 "metadata": {
  "kernelspec": {
   "display_name": "Python 3",
   "language": "python",
   "name": "python3"
  },
  "language_info": {
   "codemirror_mode": {
    "name": "ipython",
    "version": 3
   },
   "file_extension": ".py",
   "mimetype": "text/x-python",
   "name": "python",
   "nbconvert_exporter": "python",
   "pygments_lexer": "ipython3",
   "version": "3.7.3"
  }
 },
 "nbformat": 4,
 "nbformat_minor": 4
}
